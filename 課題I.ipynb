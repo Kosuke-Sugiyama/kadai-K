{
 "cells": [
  {
   "cell_type": "markdown",
   "metadata": {},
   "source": [
    "# 課題I"
   ]
  },
  {
   "cell_type": "markdown",
   "metadata": {},
   "source": [
    "**回帰問題での評価指標**\n",
    "## データの準備\n",
    "### boston"
   ]
  },
  {
   "cell_type": "code",
   "execution_count": 1,
   "metadata": {
    "ExecuteTime": {
     "end_time": "2019-10-02T06:25:37.641049Z",
     "start_time": "2019-10-02T06:25:30.317648Z"
    }
   },
   "outputs": [],
   "source": [
    "import warnings\n",
    "\n",
    "import matplotlib.pyplot as plt\n",
    "import numpy as np\n",
    "import pandas as pd\n",
    "import seaborn as sns\n",
    "\n",
    "warnings.filterwarnings('ignore')\n",
    "\n",
    "%matplotlib inline"
   ]
  },
  {
   "cell_type": "code",
   "execution_count": 2,
   "metadata": {
    "ExecuteTime": {
     "end_time": "2019-10-02T05:17:07.136493Z",
     "start_time": "2019-10-02T05:17:04.182507Z"
    }
   },
   "outputs": [],
   "source": [
    "from sklearn.datasets import load_boston\n",
    "\n",
    "boston = load_boston()"
   ]
  },
  {
   "cell_type": "code",
   "execution_count": 3,
   "metadata": {
    "ExecuteTime": {
     "end_time": "2019-10-02T05:17:07.161600Z",
     "start_time": "2019-10-02T05:17:07.138548Z"
    }
   },
   "outputs": [],
   "source": [
    "X = boston.data[:, 5]\n",
    "y = boston.target\n"
   ]
  },
  {
   "cell_type": "code",
   "execution_count": 4,
   "metadata": {
    "ExecuteTime": {
     "end_time": "2019-10-02T05:17:07.406722Z",
     "start_time": "2019-10-02T05:17:07.179552Z"
    }
   },
   "outputs": [],
   "source": [
    "from sklearn.model_selection import train_test_split\n",
    "\n",
    "X_train, X_test, y_train, y_test = train_test_split(X,y,train_size=0.8,random_state=0)"
   ]
  },
  {
   "cell_type": "code",
   "execution_count": 5,
   "metadata": {
    "ExecuteTime": {
     "end_time": "2019-10-02T05:17:07.734976Z",
     "start_time": "2019-10-02T05:17:07.412683Z"
    }
   },
   "outputs": [
    {
     "data": {
      "text/plain": [
       "LinearRegression(copy_X=True, fit_intercept=True, n_jobs=None,\n",
       "         normalize=False)"
      ]
     },
     "execution_count": 5,
     "metadata": {},
     "output_type": "execute_result"
    }
   ],
   "source": [
    "from sklearn.linear_model import LinearRegression\n",
    "\n",
    "linear_regression = LinearRegression()\n",
    "\n",
    "# 学習（変数のパラメータの最適化）\n",
    "linear_regression.fit(X_train.reshape(-1,1),\n",
    "                      y_train)\n"
   ]
  },
  {
   "cell_type": "markdown",
   "metadata": {},
   "source": [
    "## RMSE（平均平方二乗誤差）\n",
    "### 評価指標の導出方法\n",
    "\n",
    " - 所望の値 : $ f_i $\n",
    " - 予想の値 : $ y_i $\n",
    "\n",
    "$$\n",
    "  RMSE = \\sqrt{\\frac{1}{n}\\sum_{i=1}^{n}(f_i - y_i)^2}\n",
    "$$\n",
    "\n",
    "### 指標の特性\n",
    "\n",
    "モデルの性能がどれだけ悪いかを示している\n",
    "2乗して誤差をとっているため外れ値の影響を受けやすい\n",
    "\n",
    "\n",
    "### 手計算(丸暗記は不要)\n",
    " - 所望の値 : $ f_1 = 3, f_2 = 8 ,f_3 = 15$\n",
    " - 予想の値 : $ y_1 = 5, y_2 = 8 ,y_3 = 17$\n",
    " \n",
    "$$\n",
    "    \\begin{align}\n",
    "       RMSE &= \\sqrt{\\frac{(5 - 3)^2 + (8 - 8)^2 + (17 - 15)^2}{3}}\n",
    "            &= \\sqrt{\\frac{8}{3}}\n",
    "            &= 1.633\n",
    "    \\end{align}\n",
    "$$\n",
    "\n",
    "### sklearnを利用したコード"
   ]
  },
  {
   "cell_type": "code",
   "execution_count": 6,
   "metadata": {
    "ExecuteTime": {
     "end_time": "2019-10-02T05:17:07.800800Z",
     "start_time": "2019-10-02T05:17:07.743948Z"
    }
   },
   "outputs": [
    {
     "name": "stdout",
     "output_type": "stream",
     "text": [
      "RMSE train data:  6.543735855131036\n",
      "RMSE test data:  6.848894190115315\n"
     ]
    }
   ],
   "source": [
    "from sklearn.metrics import mean_squared_error\n",
    "import math\n",
    "\n",
    "y_pred = linear_regression.predict(X_test.reshape(-1,1))\n",
    "y_train_pred = linear_regression.predict(X_train.reshape(-1,1))\n",
    "\n",
    "print('RMSE train data: ', np.sqrt(mean_squared_error(y_train, y_train_pred))) \n",
    "print('RMSE test data: ', np.sqrt(mean_squared_error(y_test, y_pred)))\n"
   ]
  },
  {
   "cell_type": "markdown",
   "metadata": {},
   "source": [
    "## MAE\n",
    "### 評価指標の導出方法\n",
    "\n",
    " - 所望の値 : $ f_i $\n",
    " - 予想の値 : $ y_i $\n",
    "\n",
    "$$\n",
    "  MAE = \\frac{1}{n}\\sum_{i=1}^{n}|f_i - y_i|\n",
    "$$\n",
    "\n",
    "### 指標の特性\n",
    "\n",
    "RMSEよりも大きな外れ値が誤差として出にくい傾向にある\n",
    "\n",
    "### 手計算(丸暗記は不要)\n",
    " - 所望の値 : $ f_1 = 3, f_2 = 8 ,f_3 = 15$\n",
    " - 予想の値 : $ y_1 = 5, y_2 = 8 ,y_3 = 17$\n",
    " \n",
    "$$\n",
    "    \\begin{align}\n",
    "       MAE &= \\frac{|5 - 3| + |8 - 8| + |17 - 15|}{3}\n",
    "            &= \\frac{|8|}{3}\n",
    "            &= 1.633\n",
    "    \\end{align}\n",
    "$$\n",
    "\n",
    "### sklearnを利用したコード"
   ]
  },
  {
   "cell_type": "code",
   "execution_count": 7,
   "metadata": {
    "ExecuteTime": {
     "end_time": "2019-10-02T05:17:07.830714Z",
     "start_time": "2019-10-02T05:17:07.809771Z"
    }
   },
   "outputs": [
    {
     "name": "stdout",
     "output_type": "stream",
     "text": [
      "MAE train data:  4.47482627389194\n",
      "MAE test data:  4.324740740011389\n"
     ]
    }
   ],
   "source": [
    "from sklearn.metrics import mean_absolute_error\n",
    "\n",
    "print('MAE train data: ', mean_absolute_error(y_train, y_train_pred)) \n",
    "print('MAE test data: ', mean_absolute_error(y_test, y_pred))"
   ]
  },
  {
   "cell_type": "markdown",
   "metadata": {},
   "source": [
    "## 決定係数(R2 Score)\n",
    "### 評価指標の導出方法\n",
    "\n",
    " - 予想の式 : $ f(x_i)$\n",
    " - 所望の値 : $ y_i $\n",
    " - $ y_i $の平均値 : $ μY $\n",
    "\n",
    "$$\n",
    "  R^2 = 1 - \\frac{\\sum_{i=1}^{n}(y_i - f(x_i))^2}{\\sum_{i=1}^{n}(y_i - μY)^2}\n",
    "$$\n",
    "\n",
    "### 指標の特性\n",
    "\n",
    "平均を取っただけの直線より、今回の回帰モデルがどれだけデータに適合しているかを示す\n",
    "\n",
    "\n",
    "### 手計算(丸暗記は不要)\n",
    " - 予想の式 : $ y_i = 3x_i + 2 $\n",
    " - 所望の値 y: $ y_1 = 5, y_2 = 8 ,y_3 = 17$\n",
    " - 所望の値 x: $ x_1 = 1, x_2 = 2 ,x_3 = 5$\n",
    " \n",
    "$$\n",
    "    \\begin{align}\n",
    "       R^2 &= 1 - \\frac{(5 - 5)^2 + (8 - 8)^2 + (17 - 17)^2}{(5 - 10)^2 + (8 - 10)^2 + (17 - 10)^2}\n",
    "           &= 1\n",
    "    \\end{align}\n",
    "$$\n",
    "\n",
    "### sklearnを利用したコード"
   ]
  },
  {
   "cell_type": "code",
   "execution_count": 8,
   "metadata": {
    "ExecuteTime": {
     "end_time": "2019-10-02T05:17:07.862630Z",
     "start_time": "2019-10-02T05:17:07.841687Z"
    }
   },
   "outputs": [
    {
     "name": "stdout",
     "output_type": "stream",
     "text": [
      "r^2 train data:  0.4970800097843844\n",
      "r^2 test data:  0.42394386816456275\n"
     ]
    }
   ],
   "source": [
    "from sklearn.metrics import r2_score\n",
    "\n",
    "print('r^2 train data: ', r2_score(y_train, y_train_pred))\n",
    "print('r^2 test data: ', r2_score(y_test, y_pred))"
   ]
  },
  {
   "cell_type": "markdown",
   "metadata": {},
   "source": [
    "**クラス分類での評価指標**\n",
    "\n",
    "## データの準備\n",
    "### titanic"
   ]
  },
  {
   "cell_type": "code",
   "execution_count": 2,
   "metadata": {
    "ExecuteTime": {
     "end_time": "2019-10-02T06:25:40.450335Z",
     "start_time": "2019-10-02T06:25:37.767340Z"
    }
   },
   "outputs": [],
   "source": [
    "train = pd.read_csv('./titanic/train.csv')\n",
    "\n",
    "from sklearn.model_selection import train_test_split\n",
    "\n",
    "X_train,X_test,y_train,y_test = train_test_split(train.drop(columns=['Survived',\n",
    "                                                                     'Cabin',\n",
    "                                                                     'Name',\n",
    "                                                                     'PassengerId',\n",
    "                                                                     'Sex',\n",
    "                                                                     'Embarked',\n",
    "                                                                     'Ticket',\n",
    "                                                                     'Age']),\n",
    "                                                train['Survived'],\n",
    "                                                train_size=0.7,\n",
    "                                                random_state=0)"
   ]
  },
  {
   "cell_type": "code",
   "execution_count": 10,
   "metadata": {
    "ExecuteTime": {
     "end_time": "2019-10-02T05:17:08.009238Z",
     "start_time": "2019-10-02T05:17:07.978321Z"
    }
   },
   "outputs": [
    {
     "data": {
      "text/plain": [
       "(array([381, 242], dtype=int64), array([168, 100], dtype=int64))"
      ]
     },
     "execution_count": 10,
     "metadata": {},
     "output_type": "execute_result"
    }
   ],
   "source": [
    "np.bincount(y_train),np.bincount(y_test)"
   ]
  },
  {
   "cell_type": "code",
   "execution_count": 11,
   "metadata": {
    "ExecuteTime": {
     "end_time": "2019-10-02T05:17:08.057110Z",
     "start_time": "2019-10-02T05:17:08.022203Z"
    }
   },
   "outputs": [
    {
     "data": {
      "text/plain": [
       "LogisticRegression(C=1.0, class_weight=None, dual=False, fit_intercept=True,\n",
       "          intercept_scaling=1, max_iter=100, multi_class='warn',\n",
       "          n_jobs=None, penalty='l2', random_state=None, solver='warn',\n",
       "          tol=0.0001, verbose=0, warm_start=False)"
      ]
     },
     "execution_count": 11,
     "metadata": {},
     "output_type": "execute_result"
    }
   ],
   "source": [
    "from sklearn.linear_model import LogisticRegression\n",
    "\n",
    "logistic_regression = LogisticRegression()\n",
    "\n",
    "logistic_regression.fit(X_train,y_train)\n"
   ]
  },
  {
   "cell_type": "markdown",
   "metadata": {},
   "source": [
    "## 混同行列\n",
    "\n",
    "モデルの判定結果を4種類に分けて判定する手法\n",
    "\n",
    "|survived|死亡|生存|\n",
    "|---|:---:|:---:|\n",
    "|死亡|TP|FP|\n",
    "|生存|TF|TN|\n",
    "\n",
    "今回のタイタニックの場合\n",
    "### TP\n",
    "正しく死亡と判定できた場合\n",
    "### FP\n",
    "本来は死亡のデータを生存と判定する\n",
    "### TF\n",
    "本来は生存のデータを死亡と判定する\n",
    "### TN\n",
    "正しく生存と判定できた場合\n",
    "\n",
    "の4つに分けられる"
   ]
  },
  {
   "cell_type": "code",
   "execution_count": 12,
   "metadata": {
    "ExecuteTime": {
     "end_time": "2019-10-02T05:17:08.096005Z",
     "start_time": "2019-10-02T05:17:08.065088Z"
    }
   },
   "outputs": [
    {
     "data": {
      "text/plain": [
       "array([[146,  22],\n",
       "       [ 58,  42]], dtype=int64)"
      ]
     },
     "execution_count": 12,
     "metadata": {},
     "output_type": "execute_result"
    }
   ],
   "source": [
    " y_pred = logistic_regression.predict(X_test) \n",
    "    \n",
    "from sklearn.metrics import confusion_matrix\n",
    "confusion_matrix(y_test, y_pred)"
   ]
  },
  {
   "cell_type": "markdown",
   "metadata": {},
   "source": [
    "## 正答率\n",
    "### 評価指標の導出方法\n",
    "\n",
    "\n",
    "$$\n",
    "  Accuracy = \\frac{TP + TN}{TP + FP + TF + TN}\n",
    "$$\n",
    "\n",
    "### 指標の特性\n",
    "\n",
    "すべてのサンプルのうち正答した割合\n",
    "データごとに陰性・陽性に割り開けられる数値は異なる\n",
    "\n",
    "標本によっては正答率が高いだけでは意味がない　　\n",
    "  - ex 陰性・陽性のサンプルの片方の数が極端に多い場合 \n",
    "\n",
    "### 手計算(丸暗記は不要)\n",
    " - TP  : $ 111 $\n",
    " - FP  : $ 2 $\n",
    " - TF  : $ 8 $\n",
    " - TN  : $ 89 $\n",
    " \n",
    "$$\n",
    "    \\begin{align}\n",
    "       Accuracy &= \\frac{111 + 89}{111 + 2 + 8 + 89}\n",
    "                &= \\frac{200}{210}\n",
    "                &= 0.952\n",
    "    \\end{align}\n",
    "$$\n",
    "\n",
    "### sklearnを利用したコード"
   ]
  },
  {
   "cell_type": "code",
   "execution_count": 13,
   "metadata": {
    "ExecuteTime": {
     "end_time": "2019-10-02T05:17:08.130912Z",
     "start_time": "2019-10-02T05:17:08.105980Z"
    }
   },
   "outputs": [
    {
     "data": {
      "text/plain": [
       "0.7014925373134329"
      ]
     },
     "execution_count": 13,
     "metadata": {},
     "output_type": "execute_result"
    }
   ],
   "source": [
    "from sklearn.metrics import accuracy_score\n",
    "\n",
    "accuracy_score(y_test, y_pred)"
   ]
  },
  {
   "cell_type": "markdown",
   "metadata": {},
   "source": [
    "## 適合率\n",
    "### 評価指標の導出方法\n",
    "\n",
    "$$\n",
    "  Precision = \\frac{TP}{TP + FP}\n",
    "$$\n",
    "\n",
    "### 指標の特性\n",
    "タイタニックの場合は\n",
    "死亡と予測したサンプルのうち、正答した割合\n",
    "\n",
    "よリ正確な予測をしたい場合に重視される\n",
    "\n",
    "### 手計算(丸暗記は不要)\n",
    " - TP  : $ 111 $\n",
    " - FP  : $ 2 $\n",
    " \n",
    "$$\n",
    "    \\begin{align}\n",
    "     Precision &= \\frac{111}{111 + 2}\n",
    "                &= \\frac{111}{113}\n",
    "                &= 0.982\n",
    "    \\end{align}\n",
    "$$\n",
    "\n",
    "### sklearnを利用したコード"
   ]
  },
  {
   "cell_type": "code",
   "execution_count": 14,
   "metadata": {
    "ExecuteTime": {
     "end_time": "2019-10-02T05:17:08.178784Z",
     "start_time": "2019-10-02T05:17:08.141882Z"
    }
   },
   "outputs": [
    {
     "data": {
      "text/plain": [
       "0.65625"
      ]
     },
     "execution_count": 14,
     "metadata": {},
     "output_type": "execute_result"
    }
   ],
   "source": [
    "from sklearn.metrics import precision_score\n",
    "\n",
    "precision_score(y_test, y_pred)"
   ]
  },
  {
   "cell_type": "markdown",
   "metadata": {},
   "source": [
    "## 再現率\n",
    "### 評価指標の導出方法\n",
    "\n",
    "\n",
    "$$\n",
    "  Precision = \\frac{TN}{FN + TN}\n",
    "$$\n",
    "\n",
    "### 指標の特性\n",
    "\n",
    "生存と予想したサンプルのうち、正答した割合\n",
    "\n",
    "より正確な予測をしたい場合に重視される\n",
    "適合率と再現率はデータによってどちらが重視されるか分かれる\n",
    "\n",
    "### 手計算(丸暗記は不要)\n",
    " - TF  : $ 8 $\n",
    " - TN  : $ 89 $\n",
    " \n",
    "$$\n",
    "    \\begin{align}\n",
    "     Precision &= \\frac{89}{89 + 8}\n",
    "                &= \\frac{89}{97}\n",
    "                &= 0.918\n",
    "    \\end{align}\n",
    "$$\n",
    "\n",
    "### sklearnを利用したコード"
   ]
  },
  {
   "cell_type": "code",
   "execution_count": 15,
   "metadata": {
    "ExecuteTime": {
     "end_time": "2019-10-02T05:17:08.215686Z",
     "start_time": "2019-10-02T05:17:08.189754Z"
    }
   },
   "outputs": [
    {
     "data": {
      "text/plain": [
       "0.42"
      ]
     },
     "execution_count": 15,
     "metadata": {},
     "output_type": "execute_result"
    }
   ],
   "source": [
    "from sklearn.metrics import recall_score\n",
    "\n",
    "recall_score(y_test, y_pred)"
   ]
  },
  {
   "cell_type": "markdown",
   "metadata": {},
   "source": [
    "## 交差エントロピー誤差\n",
    "### 評価指標の導出方法\n",
    "\n",
    " - 正解の値 : $ t_i$\n",
    " - 予想の値 : $ y_i $\n",
    " \n",
    "$$\n",
    "  E = -\\sum_{i}t_i logy_i\n",
    "$$\n",
    "\n",
    "### 指標の特性\n",
    "\n",
    "それぞれの事象の確立に正誤の重みをつけて誤差を算出するもの\n",
    "精度が高い程、数値が小さくなる\n",
    "\n",
    "### 手計算(丸暗記は不要)\n",
    " - 正解の値  : $ t_1 = 0, t_2 = 0, t_3 = 1 $\n",
    " - 予想の値  : $ y_1 = 0.1, y_2 = 0.2, y_3 = 0.7 $\n",
    " \n",
    "$$\n",
    "    \\begin{align}\n",
    "     E &= - ((0 * log0.1) + (0 * log0.2) + (1 * log0.7))\n",
    "       &= 0.155\n",
    "    \\end{align}\n",
    "$$\n",
    "\n",
    "### sklearnを利用したコード"
   ]
  },
  {
   "cell_type": "code",
   "execution_count": 16,
   "metadata": {
    "ExecuteTime": {
     "end_time": "2019-10-02T05:17:08.258569Z",
     "start_time": "2019-10-02T05:17:08.227654Z"
    }
   },
   "outputs": [],
   "source": [
    "bool_list =[]\n",
    "count = 0\n",
    "for i in np.array(y_test):\n",
    "    if i == 0:\n",
    "        bool_list.append([1,0])\n",
    "    else:\n",
    "        bool_list.append([0,1])\n",
    "\n",
    "t = np.array(bool_list)"
   ]
  },
  {
   "cell_type": "code",
   "execution_count": 17,
   "metadata": {
    "ExecuteTime": {
     "end_time": "2019-10-02T05:17:08.333371Z",
     "start_time": "2019-10-02T05:17:08.268543Z"
    }
   },
   "outputs": [
    {
     "name": "stdout",
     "output_type": "stream",
     "text": [
      "t_0の交差エントロピー誤差は : 0.298\n",
      "t_1の交差エントロピー誤差は : 0.291\n",
      "t_2の交差エントロピー誤差は : 0.213\n",
      "t_3の交差エントロピー誤差は : 0.422\n",
      "t_4の交差エントロピー誤差は : 1.046\n"
     ]
    }
   ],
   "source": [
    "logistic_regression.predict_proba(X_test)\n",
    "\n",
    "delta = 1e-7\n",
    "for i in range(0,5):\n",
    "    print(f't_{i}の交差エントロピー誤差は : {-np.sum(t[i] * np.log(logistic_regression.predict_proba(X_test)[i])):.3f}')\n",
    "    "
   ]
  },
  {
   "cell_type": "markdown",
   "metadata": {},
   "source": [
    "終わり"
   ]
  }
 ],
 "metadata": {
  "kernelspec": {
   "display_name": "Python 3",
   "language": "python",
   "name": "python3"
  },
  "language_info": {
   "codemirror_mode": {
    "name": "ipython",
    "version": 3
   },
   "file_extension": ".py",
   "mimetype": "text/x-python",
   "name": "python",
   "nbconvert_exporter": "python",
   "pygments_lexer": "ipython3",
   "version": "3.7.3"
  },
  "toc": {
   "base_numbering": 1,
   "nav_menu": {},
   "number_sections": true,
   "sideBar": true,
   "skip_h1_title": false,
   "title_cell": "Table of Contents",
   "title_sidebar": "Contents",
   "toc_cell": false,
   "toc_position": {},
   "toc_section_display": true,
   "toc_window_display": false
  }
 },
 "nbformat": 4,
 "nbformat_minor": 2
}
